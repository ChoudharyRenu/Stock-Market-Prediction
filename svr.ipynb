{
 "cells": [
  {
   "cell_type": "code",
   "execution_count": 16,
   "metadata": {},
   "outputs": [
    {
     "name": "stdout",
     "output_type": "stream",
     "text": [
      "Automatically created module for IPython interactive environment\n"
     ]
    }
   ],
   "source": [
    "print(__doc__)\n",
    "\n",
    "import numpy as np\n",
    "import scipy as sp\n",
    "import pandas as pd\n",
    "from subprocess import check_output\n",
    "from sklearn.svm import SVR\n",
    "\n",
    "import matplotlib.pyplot as plt\n",
    "%matplotlib inline\n",
    "\n",
    "import csv"
   ]
  },
  {
   "cell_type": "code",
   "execution_count": 17,
   "metadata": {
    "collapsed": true
   },
   "outputs": [],
   "source": [
    "\n",
    "#read the csv into a dataframe\n",
    "df = pd.read_csv('nseComp.1.csv', parse_dates = ['Date'] )\n",
    "#print the contents of the dataframe"
   ]
  },
  {
   "cell_type": "code",
   "execution_count": 18,
   "metadata": {},
   "outputs": [
    {
     "data": {
      "text/html": [
       "<div>\n",
       "<style>\n",
       "    .dataframe thead tr:only-child th {\n",
       "        text-align: right;\n",
       "    }\n",
       "\n",
       "    .dataframe thead th {\n",
       "        text-align: left;\n",
       "    }\n",
       "\n",
       "    .dataframe tbody tr th {\n",
       "        vertical-align: top;\n",
       "    }\n",
       "</style>\n",
       "<table border=\"1\" class=\"dataframe\">\n",
       "  <thead>\n",
       "    <tr style=\"text-align: right;\">\n",
       "      <th></th>\n",
       "      <th>Open</th>\n",
       "      <th>High</th>\n",
       "      <th>Low</th>\n",
       "      <th>Close</th>\n",
       "      <th>Volume</th>\n",
       "    </tr>\n",
       "  </thead>\n",
       "  <tbody>\n",
       "    <tr>\n",
       "      <th>count</th>\n",
       "      <td>5.803312e+06</td>\n",
       "      <td>5.803312e+06</td>\n",
       "      <td>5.803312e+06</td>\n",
       "      <td>5.803312e+06</td>\n",
       "      <td>5.803312e+06</td>\n",
       "    </tr>\n",
       "    <tr>\n",
       "      <th>mean</th>\n",
       "      <td>1.084660e+03</td>\n",
       "      <td>1.085290e+03</td>\n",
       "      <td>1.084010e+03</td>\n",
       "      <td>1.084647e+03</td>\n",
       "      <td>4.030938e+03</td>\n",
       "    </tr>\n",
       "    <tr>\n",
       "      <th>std</th>\n",
       "      <td>2.754575e+03</td>\n",
       "      <td>2.756003e+03</td>\n",
       "      <td>2.753105e+03</td>\n",
       "      <td>2.754518e+03</td>\n",
       "      <td>2.431125e+04</td>\n",
       "    </tr>\n",
       "    <tr>\n",
       "      <th>min</th>\n",
       "      <td>2.300000e+00</td>\n",
       "      <td>2.300000e+00</td>\n",
       "      <td>2.300000e+00</td>\n",
       "      <td>2.300000e+00</td>\n",
       "      <td>1.000000e+00</td>\n",
       "    </tr>\n",
       "    <tr>\n",
       "      <th>25%</th>\n",
       "      <td>1.761500e+02</td>\n",
       "      <td>1.763000e+02</td>\n",
       "      <td>1.760000e+02</td>\n",
       "      <td>1.761500e+02</td>\n",
       "      <td>8.600000e+01</td>\n",
       "    </tr>\n",
       "    <tr>\n",
       "      <th>50%</th>\n",
       "      <td>4.614000e+02</td>\n",
       "      <td>4.617000e+02</td>\n",
       "      <td>4.610000e+02</td>\n",
       "      <td>4.614000e+02</td>\n",
       "      <td>4.950000e+02</td>\n",
       "    </tr>\n",
       "    <tr>\n",
       "      <th>75%</th>\n",
       "      <td>1.098650e+03</td>\n",
       "      <td>1.099400e+03</td>\n",
       "      <td>1.098000e+03</td>\n",
       "      <td>1.098650e+03</td>\n",
       "      <td>2.484000e+03</td>\n",
       "    </tr>\n",
       "    <tr>\n",
       "      <th>max</th>\n",
       "      <td>2.797950e+04</td>\n",
       "      <td>2.799000e+04</td>\n",
       "      <td>2.795000e+04</td>\n",
       "      <td>2.797005e+04</td>\n",
       "      <td>1.305972e+07</td>\n",
       "    </tr>\n",
       "  </tbody>\n",
       "</table>\n",
       "</div>"
      ],
      "text/plain": [
       "               Open          High           Low         Close        Volume\n",
       "count  5.803312e+06  5.803312e+06  5.803312e+06  5.803312e+06  5.803312e+06\n",
       "mean   1.084660e+03  1.085290e+03  1.084010e+03  1.084647e+03  4.030938e+03\n",
       "std    2.754575e+03  2.756003e+03  2.753105e+03  2.754518e+03  2.431125e+04\n",
       "min    2.300000e+00  2.300000e+00  2.300000e+00  2.300000e+00  1.000000e+00\n",
       "25%    1.761500e+02  1.763000e+02  1.760000e+02  1.761500e+02  8.600000e+01\n",
       "50%    4.614000e+02  4.617000e+02  4.610000e+02  4.614000e+02  4.950000e+02\n",
       "75%    1.098650e+03  1.099400e+03  1.098000e+03  1.098650e+03  2.484000e+03\n",
       "max    2.797950e+04  2.799000e+04  2.795000e+04  2.797005e+04  1.305972e+07"
      ]
     },
     "execution_count": 18,
     "metadata": {},
     "output_type": "execute_result"
    }
   ],
   "source": [
    "df2 = df.drop(['Unnamed: 0'], axis = 1)\n",
    "df2.describe()"
   ]
  },
  {
   "cell_type": "code",
   "execution_count": 19,
   "metadata": {},
   "outputs": [
    {
     "data": {
      "text/plain": [
       "Code      5803312\n",
       "Date      5803312\n",
       "Time      5803312\n",
       "Open      5803312\n",
       "High      5803312\n",
       "Low       5803312\n",
       "Close     5803312\n",
       "Volume    5803312\n",
       "dtype: int64"
      ]
     },
     "execution_count": 19,
     "metadata": {},
     "output_type": "execute_result"
    }
   ],
   "source": [
    "#remove null value (preprocessing)\n",
    "df2 = df2.dropna()   \n",
    "df2.count() "
   ]
  },
  {
   "cell_type": "code",
   "execution_count": 20,
   "metadata": {},
   "outputs": [
    {
     "data": {
      "text/plain": [
       "Date      datetime64[ns]\n",
       "Time              object\n",
       "Open             float64\n",
       "High             float64\n",
       "Low              float64\n",
       "Close            float64\n",
       "Volume           float64\n",
       "dtype: object"
      ]
     },
     "execution_count": 20,
     "metadata": {},
     "output_type": "execute_result"
    }
   ],
   "source": [
    "#set index for locating companies\n",
    "df3=df2.set_index(\"Code\")\n",
    "df3.dtypes"
   ]
  },
  {
   "cell_type": "code",
   "execution_count": 47,
   "metadata": {},
   "outputs": [
    {
     "ename": "NameError",
     "evalue": "name 'uniqueVals' is not defined",
     "output_type": "error",
     "traceback": [
      "\u001b[0;31m---------------------------------------------------------------------------\u001b[0m",
      "\u001b[0;31mNameError\u001b[0m                                 Traceback (most recent call last)",
      "\u001b[0;32m<ipython-input-47-5caab1f8dd0c>\u001b[0m in \u001b[0;36m<module>\u001b[0;34m()\u001b[0m\n\u001b[0;32m----> 1\u001b[0;31m \u001b[0muniqueVals\u001b[0m\u001b[0;34m\u001b[0m\u001b[0m\n\u001b[0m",
      "\u001b[0;31mNameError\u001b[0m: name 'uniqueVals' is not defined"
     ]
    }
   ],
   "source": [
    "uniqueVals"
   ]
  },
  {
   "cell_type": "code",
   "execution_count": 49,
   "metadata": {},
   "outputs": [
    {
     "data": {
      "text/plain": [
       "array(['3IINFOTECH', '8KMILES', 'ABAN', 'ABB', 'ABBOTINDIA', 'ABIRLANUVO',\n",
       "       'ACC', 'ADANIENT', 'ADANIPORTS', 'ADANIPOWER', 'AHMEDFORGE',\n",
       "       'AIAENG', 'AIL', 'AJANTPHARM', 'AKZOINDIA', 'ALBK', 'ALEMBICLTD',\n",
       "       'ALLCARGO', 'ALOKTEXT', 'AMARAJABAT', 'AMBUJACEM', 'AMTEKAUTO',\n",
       "       'AMTEKINDIA', 'ANANTRAJ', 'ANDHRABANK', 'APLLTD', 'APOLLOHOSP',\n",
       "       'APOLLOTYRE', 'ARCOTECH', 'ARVIND', 'ARVINDREM', 'ASHOKA',\n",
       "       'ASHOKLEY', 'ASIANPAINT', 'ASTRAL', 'ASTRAMICRO', 'ATFL',\n",
       "       'ATULAUTO', 'AURIONPRO', 'AUROPHARMA', 'AXISBANK', 'AXISCADES',\n",
       "       'BAJAJCORP', 'BAJAJELEC', 'BAJAJFINSV', 'BAJAJHIND', 'BAJAJHLDNG',\n",
       "       'BAJFINANCE', 'BALKRISIND', 'BALMLAWRIE', 'BALRAMCHIN',\n",
       "       'BANKBARODA', 'BANKINDIA', 'BATAINDIA', 'BAYERCROP', 'BBL', 'BBTC',\n",
       "       'BEL', 'BEML', 'BERGEPAINT', 'BFUTILITIE', 'BGRENERGY',\n",
       "       'BHARATFORG', 'BHARTIARTL', 'BHEL', 'BIOCON', 'BLUEDART',\n",
       "       'BOMDYEING', 'BOSCHLTD', 'BPCL', 'BPL', 'BRITANNIA', 'CADILAHC',\n",
       "       'CAIRN', 'CANBK', 'CANFINHOME', 'CAPF', 'CARERATING', 'CASTROLIND',\n",
       "       'CEATLTD', 'CENTRALBK', 'CENTUM', 'CENTURYTEX', 'CERA', 'CESC',\n",
       "       'CHAMBLFERT'], dtype=object)"
      ]
     },
     "execution_count": 49,
     "metadata": {},
     "output_type": "execute_result"
    }
   ],
   "source": [
    "# creates an array of company names\n",
    "uniqueVals = df2[\"Code\"].unique() \n",
    "# appends the results of all companies\n",
    "grouped_df=pd.DataFrame()  # empty dataframe\n",
    "for i in uniqueVals:\n",
    "    # store DataFrame in list\n",
    "    grouped_df=grouped_df.append((df3.loc[i,:]).groupby(['Code','Date']).mean())\n",
    "#grouped_df = append_df.reset_index()\n",
    "uniqueVals\n"
   ]
  },
  {
   "cell_type": "code",
   "execution_count": 24,
   "metadata": {
    "collapsed": true
   },
   "outputs": [],
   "source": [
    "#grouped_CHAMBLFERT= (grouped_df.loc[\"CHAMBLFERT\",:]).drop(['Code', index = False])\n",
    "grouped_infotech = (grouped_df.loc[\"3IINFOTECH\",:]).reset_index()"
   ]
  },
  {
   "cell_type": "code",
   "execution_count": 26,
   "metadata": {
    "collapsed": true
   },
   "outputs": [],
   "source": [
    "grouped_infotech.to_csv('infotech.csv', encoding='utf-8', index=False) #converting into csv"
   ]
  },
  {
   "cell_type": "code",
   "execution_count": 42,
   "metadata": {
    "collapsed": true
   },
   "outputs": [],
   "source": [
    "#plt.switch_backend('newbackend') \n",
    "import csv\n",
    "dates = []\n",
    "prices = []\n",
    "\n",
    "def get_data(filename):\n",
    "\twith open(filename, 'r') as csvfile:\n",
    "\t\tcsvFileReader = csv.reader(csvfile)\n",
    "\t\tnext(csvFileReader)\t# skipping column names\n",
    "\t\tfor row in csvFileReader:\n",
    "\t\t\tdates.append(int(row[0].split('-')[2]))\n",
    "\t\t\tprices.append(float(row[1]))\n",
    "\treturn\n",
    "\n",
    "get_data('infotech.csv')\n"
   ]
  },
  {
   "cell_type": "code",
   "execution_count": 43,
   "metadata": {
    "collapsed": true
   },
   "outputs": [],
   "source": [
    "def create_datasets(dates,prices):\n",
    "    train_size=int(0.90*len(dates))\n",
    "    print train_size\n",
    "    TrainX,TrainY=[],[]\n",
    "    TestX,TestY=[],[]\n",
    "    cntr=0\n",
    "    for date in dates:\n",
    "        if cntr<train_size:\n",
    "            TrainX.append(date)\n",
    "        else:\n",
    "            TestX.append(date)\n",
    "        cntr = cntr+1\n",
    "    cntr=0\n",
    "    for price in prices:\n",
    "        if cntr<train_size:\n",
    "            TrainY.append(price)\n",
    "        else:\n",
    "            TestY.append(price)\n",
    "        cntr = cntr+1\n",
    "        \n",
    "    return TrainX,TrainY,TestX,TestY"
   ]
  },
  {
   "cell_type": "code",
   "execution_count": 46,
   "metadata": {},
   "outputs": [
    {
     "name": "stdout",
     "output_type": "stream",
     "text": [
      "142\n",
      "[8, 9, 10, 11, 14, 15, 16, 18, 21, 22, 23, 24, 28, 29, 30, 1]\n"
     ]
    }
   ],
   "source": [
    " TrainX,TrainY,TestX,TestY = create_datasets(dates, prices)\n",
    " print TestX"
   ]
  },
  {
   "cell_type": "code",
   "execution_count": 31,
   "metadata": {
    "collapsed": true
   },
   "outputs": [],
   "source": [
    "def predict_price_test(dates, prices, x):\n",
    "\tdates = np.reshape(dates,(len(dates), 1)) # converting to matrix of n X 1\n",
    "\n",
    "\tsvr_rbf = SVR(kernel= 'rbf', C= 1e3, gamma= 0.1) # defining the support vector regression models\n",
    "\tsvr_rbf.fit(dates, prices) # fitting the data points in the models\n",
    "\t#print(\"jhjgj \",svr_rbf.predict(-1)[0])\n",
    "    #plt.plot(dates, svr_rbf.predict(dates), color= 'red', label= 'RBF model')\n",
    "    \n",
    "\treturn svr_rbf.predict(x)[0]"
   ]
  },
  {
   "cell_type": "code",
   "execution_count": 33,
   "metadata": {},
   "outputs": [
    {
     "data": {
      "text/plain": [
       "6.936689506405"
      ]
     },
     "execution_count": 33,
     "metadata": {},
     "output_type": "execute_result"
    }
   ],
   "source": [
    "predicted_price = predict_price_test(dates, prices, 29)  \n",
    "predicted_price"
   ]
  },
  {
   "cell_type": "code",
   "execution_count": 36,
   "metadata": {},
   "outputs": [],
   "source": [
    "predicted_prices = list()\n",
    "for i in range(30):\n",
    "    predicted_prices.append(predict_price_test(dates, prices, i+1))\n",
    "    #predicted_prices = predicted_prices.append(val)\n",
    "   # predicted_prices = predicted_prices.append(predict_price_test(dates, prices, i))\n",
    "#plt.plot(predicted_prices)"
   ]
  },
  {
   "cell_type": "code",
   "execution_count": 37,
   "metadata": {},
   "outputs": [
    {
     "data": {
      "text/plain": [
       "[6.936689506405,\n",
       " 6.936689506405,\n",
       " 6.936689506405,\n",
       " 6.936689506405,\n",
       " 6.936689506405,\n",
       " 6.936689506405,\n",
       " 6.936689506405,\n",
       " 6.936689506405,\n",
       " 6.936689506405,\n",
       " 6.936689506405,\n",
       " 6.936689506405,\n",
       " 6.936689506405,\n",
       " 6.936689506405,\n",
       " 6.936689506405,\n",
       " 6.936689506405,\n",
       " 6.936689506405,\n",
       " 6.936689506405,\n",
       " 6.936689506405,\n",
       " 6.936689506405,\n",
       " 6.936689506405,\n",
       " 6.936689506405,\n",
       " 6.936689506405,\n",
       " 6.936689506405,\n",
       " 6.936689506405,\n",
       " 6.936689506405,\n",
       " 6.936689506405,\n",
       " 6.936689506405,\n",
       " 6.936689506405,\n",
       " 6.936689506405,\n",
       " 6.936689506405]"
      ]
     },
     "execution_count": 37,
     "metadata": {},
     "output_type": "execute_result"
    }
   ],
   "source": [
    "predicted_prices"
   ]
  },
  {
   "cell_type": "code",
   "execution_count": null,
   "metadata": {
    "collapsed": true
   },
   "outputs": [],
   "source": [
    "import math\n",
    "from sklearn.metrics import mean_squared_error\n",
    "from sklearn.metrics import accuracy_score\n",
    "error = math.sqrt(mean_squared_error(prices, predictions))\n",
    "print('Test MSE: %.3f' % error)"
   ]
  }
 ],
 "metadata": {
  "kernelspec": {
   "display_name": "Python 2",
   "language": "python",
   "name": "python2"
  },
  "language_info": {
   "codemirror_mode": {
    "name": "ipython",
    "version": 2
   },
   "file_extension": ".py",
   "mimetype": "text/x-python",
   "name": "python",
   "nbconvert_exporter": "python",
   "pygments_lexer": "ipython2",
   "version": "2.7.14"
  }
 },
 "nbformat": 4,
 "nbformat_minor": 2
}
